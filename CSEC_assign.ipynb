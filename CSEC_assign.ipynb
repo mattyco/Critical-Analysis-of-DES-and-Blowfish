{
  "nbformat": 4,
  "nbformat_minor": 0,
  "metadata": {
    "colab": {
      "name": "CSEC_assign.ipynb",
      "provenance": [],
      "collapsed_sections": [],
      "toc_visible": true,
      "include_colab_link": true
    },
    "kernelspec": {
      "name": "python3",
      "display_name": "Python 3"
    }
  },
  "cells": [
    {
      "cell_type": "markdown",
      "metadata": {
        "id": "view-in-github",
        "colab_type": "text"
      },
      "source": [
        "<a href=\"https://colab.research.google.com/github/mattyco/Critical-Analysis-of-DES-and-Blowfish/blob/master/CSEC_assign.ipynb\" target=\"_parent\"><img src=\"https://colab.research.google.com/assets/colab-badge.svg\" alt=\"Open In Colab\"/></a>"
      ]
    },
    {
      "cell_type": "markdown",
      "metadata": {
        "id": "amOp5Byxesb4",
        "colab_type": "text"
      },
      "source": [
        "#Section 1 : Blowfish\n",
        "Python bs 64 key 64bit"
      ]
    },
    {
      "cell_type": "code",
      "metadata": {
        "id": "OPMsVEYcKo9A",
        "colab_type": "code",
        "outputId": "b3532945-363c-4a67-abee-2671e2713d4a",
        "colab": {
          "base_uri": "https://localhost:8080/",
          "height": 34
        }
      },
      "source": [
        "pip install pycryptodome"
      ],
      "execution_count": 0,
      "outputs": [
        {
          "output_type": "stream",
          "text": [
            "Requirement already satisfied: pycryptodome in /usr/local/lib/python3.6/dist-packages (3.9.7)\n"
          ],
          "name": "stdout"
        }
      ]
    },
    {
      "cell_type": "code",
      "metadata": {
        "id": "XM3u2DflLG-D",
        "colab_type": "code",
        "colab": {}
      },
      "source": [
        "from Crypto.Cipher import Blowfish\n",
        "from struct import pack\n",
        "import os, random\n",
        "import binascii\n",
        "import time\n",
        "from scipy.spatial import distance"
      ],
      "execution_count": 0,
      "outputs": []
    },
    {
      "cell_type": "code",
      "metadata": {
        "id": "zGip9zv3NWc2",
        "colab_type": "code",
        "outputId": "d6aef763-75cc-4851-d94d-7bc0f7118b38",
        "colab": {
          "base_uri": "https://localhost:8080/",
          "height": 54
        }
      },
      "source": [
        "from google.colab import drive\n",
        "drive.mount('/content/drive')"
      ],
      "execution_count": 0,
      "outputs": [
        {
          "output_type": "stream",
          "text": [
            "Drive already mounted at /content/drive; to attempt to forcibly remount, call drive.mount(\"/content/drive\", force_remount=True).\n"
          ],
          "name": "stdout"
        }
      ]
    },
    {
      "cell_type": "code",
      "metadata": {
        "id": "sjd2x-SWNjra",
        "colab_type": "code",
        "colab": {}
      },
      "source": [
        "path ='/content/drive/My Drive/CompSec/'"
      ],
      "execution_count": 0,
      "outputs": []
    },
    {
      "cell_type": "code",
      "metadata": {
        "id": "R-JsuO324r8W",
        "colab_type": "code",
        "colab": {}
      },
      "source": [
        "bs = Blowfish.block_size\n",
        "bskey = b'01234567'\n",
        "cryptobj = Blowfish.new(bskey, Blowfish.MODE_ECB)"
      ],
      "execution_count": 0,
      "outputs": []
    },
    {
      "cell_type": "code",
      "metadata": {
        "id": "eaBmUUVpP2ed",
        "colab_type": "code",
        "colab": {}
      },
      "source": [
        "def encrypt_bf_file(bs, key, in_filename, out_filename=None):\n",
        "    if not out_filename:\n",
        "        out_filename = in_filename + '.enc'\n",
        "    size = os.path.getsize(in_filename)\n",
        "    infile = open(in_filename, 'rb')\n",
        "    outfile = open(out_filename, 'wb')\n",
        "    data = infile.read()\n",
        "    # print(data)\n",
        "    infile.close()\n",
        "    if size % bs > 0:\n",
        "        extra = bs-(size % bs)\n",
        "        padding = [0]*extra\n",
        "        padding = pack('b'*extra, *padding)\n",
        "        data += padding\n",
        "    start_time=time.time()\n",
        "    encrypted_data = cryptobj.encrypt(data)\n",
        "    end_time=time.time()\n",
        "    # print(encrypted_data)\n",
        "    outfile.write(encrypted_data)\n",
        "    outfile.close()\n",
        "    return (end_time - start_time)"
      ],
      "execution_count": 0,
      "outputs": []
    },
    {
      "cell_type": "code",
      "metadata": {
        "id": "fJspz819PZyV",
        "colab_type": "code",
        "colab": {}
      },
      "source": [
        "def decrypt_bf_file(key, in_filename, out_filename):\n",
        "    infile = open(in_filename, 'rb')\n",
        "    outfile = open(out_filename, 'wb')\n",
        "    data = infile.read()\n",
        "    infile.close()\n",
        "    start_time=time.time()\n",
        "    decrypted_data = cryptobj.decrypt(data)\n",
        "    end_time=time.time()\n",
        "    end = len(decrypted_data) - 1\n",
        "    while binascii.hexlify(bytes(str(decrypted_data[end]), 'utf-8')) == '00':\n",
        "        end -= 1\n",
        "    decrypted_data = decrypted_data[0:end]\n",
        "    outfile.write(decrypted_data)\n",
        "    outfile.close()\n",
        "    \n",
        "    return(end_time - start_time)"
      ],
      "execution_count": 0,
      "outputs": []
    },
    {
      "cell_type": "code",
      "metadata": {
        "id": "fwAL-f0KayGq",
        "colab_type": "code",
        "colab": {}
      },
      "source": [
        "def findbfavgtime(bs,key,filename):\n",
        "  avg_enc_time=0\n",
        "  avg_dec_time=0\n",
        "  for i in range(10):\n",
        "    time_taken_enc=encrypt_bf_file(bs,key, path + filename)\n",
        "    time_taken_dec=decrypt_bf_file(key, path + filename + \".enc\",path + 'out.txt')\n",
        "    # print(time_taken)\n",
        "    avg_enc_time+=time_taken_enc\n",
        "    avg_dec_time+=time_taken_dec\n",
        "    # time.sleep(2)\n",
        "\n",
        "  avg_enc_time*=100\n",
        "  avg_dec_time*=100\n",
        "  return(avg_enc_time,avg_dec_time)"
      ],
      "execution_count": 0,
      "outputs": []
    },
    {
      "cell_type": "markdown",
      "metadata": {
        "id": "HSXskxhEfCBF",
        "colab_type": "text"
      },
      "source": [
        "#Section 2 : DES\n",
        "DES Python\n",
        "Key size 64 bit.\n",
        "ECB Mode (Electronic Code Book)"
      ]
    },
    {
      "cell_type": "code",
      "metadata": {
        "id": "CxRE82K5fPKM",
        "colab_type": "code",
        "colab": {}
      },
      "source": [
        "from Crypto.Cipher import DES\n",
        "import time"
      ],
      "execution_count": 0,
      "outputs": []
    },
    {
      "cell_type": "code",
      "metadata": {
        "id": "RNm-xPtEfdRs",
        "colab_type": "code",
        "colab": {}
      },
      "source": [
        "desbs = DES.block_size\n",
        "deskey=b'01234567'\n",
        "desobj = DES.new(deskey, DES.MODE_ECB)"
      ],
      "execution_count": 0,
      "outputs": []
    },
    {
      "cell_type": "code",
      "metadata": {
        "id": "M6C_fErBgaih",
        "colab_type": "code",
        "colab": {}
      },
      "source": [
        "def encrypt_des_file(bs,key, in_filename, out_filename=None):\n",
        "    \n",
        "    if not out_filename:\n",
        "        out_filename = in_filename + '.enc'\n",
        "    size = os.path.getsize(in_filename)\n",
        "    infile = open(in_filename, 'rb')\n",
        "    outfile = open(out_filename, 'wb')\n",
        "    data = infile.read()\n",
        "    infile.close()\n",
        "    if size % bs > 0: \n",
        "        extra = bs-(size % bs)\n",
        "        padding = [0]*extra\n",
        "        padding = pack('b'*extra, *padding)\n",
        "        data += padding\n",
        "    start_time=time.time()\n",
        "    encrypted_data = desobj.encrypt(data)\n",
        "    end_time=time.time()\n",
        "    outfile.write(encrypted_data)\n",
        "    outfile.close()\n",
        "    return (end_time - start_time)"
      ],
      "execution_count": 0,
      "outputs": []
    },
    {
      "cell_type": "code",
      "metadata": {
        "id": "cm4v14BRgbff",
        "colab_type": "code",
        "colab": {}
      },
      "source": [
        "def decrypt_des_file(key, in_filename, out_filename):\n",
        "    infile = open(in_filename, 'rb')\n",
        "    outfile = open(out_filename, 'wb')\n",
        "    data = infile.read()\n",
        "    infile.close()\n",
        "    start_time=time.time()\n",
        "    decrypted_data = desobj.decrypt(data)\n",
        "    end_time=time.time()\n",
        "    end = len(decrypted_data) - 1\n",
        "    while binascii.hexlify(bytes(str(decrypted_data[end]), 'utf-8')) == '00':\n",
        "        end -= 1\n",
        "    decrypted_data = decrypted_data[0:end]\n",
        "    outfile.write(decrypted_data)\n",
        "    outfile.close()\n",
        "    return(end_time - start_time)\n"
      ],
      "execution_count": 0,
      "outputs": []
    },
    {
      "cell_type": "code",
      "metadata": {
        "id": "Z2P3rxp-Jh16",
        "colab_type": "code",
        "colab": {}
      },
      "source": [
        "def finddesavgtime(bs,key,filename):\n",
        "  avg_enc_time=0\n",
        "  avg_dec_time=0\n",
        "  for i in range(10):\n",
        "    time_taken_enc=encrypt_des_file(bs,key, path + filename)\n",
        "    time_taken_dec=decrypt_des_file(key, path + filename + \".enc\",path + 'out.txt')\n",
        "    # print(time_taken)\n",
        "    avg_enc_time+=time_taken_enc\n",
        "    avg_dec_time+=time_taken_dec\n",
        "    # time.sleep(1)\n",
        "\n",
        "  avg_enc_time*=100\n",
        "  avg_dec_time*=100\n",
        "  return(avg_enc_time,avg_dec_time)"
      ],
      "execution_count": 0,
      "outputs": []
    },
    {
      "cell_type": "markdown",
      "metadata": {
        "id": "9aV_OAKQXL-h",
        "colab_type": "text"
      },
      "source": [
        "#Section 3 : Comparison\n",
        "Comparing the values"
      ]
    },
    {
      "cell_type": "code",
      "metadata": {
        "id": "xcOVDS1CXWQK",
        "colab_type": "code",
        "colab": {}
      },
      "source": [
        "from prettytable import PrettyTable"
      ],
      "execution_count": 0,
      "outputs": []
    },
    {
      "cell_type": "code",
      "metadata": {
        "id": "6bvTW_lYXjru",
        "colab_type": "code",
        "colab": {}
      },
      "source": [
        "enc_table=PrettyTable(['File','DES','Blowfish'])\n",
        "dec_table=PrettyTable(['File','DES','Blowfish'])\n"
      ],
      "execution_count": 0,
      "outputs": []
    },
    {
      "cell_type": "code",
      "metadata": {
        "id": "GJeKRMcuQO1X",
        "colab_type": "code",
        "colab": {}
      },
      "source": [
        "enc_data=[[],[]]\n",
        "dec_data=[[],[]]\n",
        "\n",
        "des_enc,des_dec=finddesavgtime(desbs,deskey,'vid10MB.mp4')\n",
        "bf_enc,bf_dec=findbfavgtime(bs,bskey,'vid10MB.mp4')\n",
        "enc_table.add_row(['mp4 10MB',des_enc,bf_enc])\n",
        "dec_table.add_row(['mp4 10MB',des_dec,bf_dec])\n",
        "enc_data[0].append(des_enc)\n",
        "enc_data[1].append(bf_enc)\n",
        "dec_data[0].append(des_dec)\n",
        "dec_data[1].append(bf_dec)\n",
        "\n",
        "des_enc,des_dec=finddesavgtime(desbs,deskey,'vid20MB.mp4')\n",
        "bf_enc,bf_dec=findbfavgtime(bs,bskey,'vid20MB.mp4')\n",
        "enc_table.add_row(['mp4 20MB',des_enc,bf_enc])\n",
        "dec_table.add_row(['mp4 20MB',des_dec,bf_dec])\n",
        "enc_data[0].append(des_enc)\n",
        "enc_data[1].append(bf_enc)\n",
        "dec_data[0].append(des_dec)\n",
        "dec_data[1].append(bf_dec)\n",
        "\n",
        "des_enc,des_dec=finddesavgtime(desbs,deskey,'vid30MB.mp4')\n",
        "bf_enc,bf_dec=findbfavgtime(bs,bskey,'vid30MB.mp4')\n",
        "enc_table.add_row(['mp4 30MB',des_enc,bf_enc])\n",
        "dec_table.add_row(['mp4 30MB',des_dec,bf_dec])\n",
        "enc_data[0].append(des_enc)\n",
        "enc_data[1].append(bf_enc)\n",
        "dec_data[0].append(des_dec)\n",
        "dec_data[1].append(bf_dec)\n",
        "\n",
        "des_enc,des_dec=finddesavgtime(desbs,deskey,'xml10MB.xml')\n",
        "bf_enc,bf_dec=findbfavgtime(bs,bskey,'xml10MB.xml')\n",
        "enc_table.add_row(['xml 10MB',des_enc,bf_enc])\n",
        "dec_table.add_row(['xml 10MB',des_dec,bf_dec])\n",
        "enc_data[0].append(des_enc)\n",
        "enc_data[1].append(bf_enc)\n",
        "dec_data[0].append(des_dec)\n",
        "dec_data[1].append(bf_dec)\n",
        "\n",
        "des_enc,des_dec=finddesavgtime(desbs,deskey,'xml20MB.xml')\n",
        "bf_enc,bf_dec=findbfavgtime(bs,bskey,'xml20MB.xml')\n",
        "enc_table.add_row(['xml 20MB',des_enc,bf_enc])\n",
        "dec_table.add_row(['xml 20MB',des_dec,bf_dec])\n",
        "enc_data[0].append(des_enc)\n",
        "enc_data[1].append(bf_enc)\n",
        "dec_data[0].append(des_dec)\n",
        "dec_data[1].append(bf_dec)\n",
        "\n",
        "des_enc,des_dec=finddesavgtime(desbs,deskey,'xml30MB.xml')\n",
        "bf_enc,bf_dec=findbfavgtime(bs,bskey,'xml30MB.xml')\n",
        "enc_table.add_row(['xml 30MB',des_enc,bf_enc])\n",
        "dec_table.add_row(['xml 30MB',des_dec,bf_dec])\n",
        "enc_data[0].append(des_enc)\n",
        "enc_data[1].append(bf_enc)\n",
        "dec_data[0].append(des_dec)\n",
        "dec_data[1].append(bf_dec)\n",
        "\n",
        "des_enc,des_dec=finddesavgtime(desbs,deskey,'txt10MB.txt')\n",
        "bf_enc,bf_dec=findbfavgtime(bs,bskey,'txt10MB.txt')\n",
        "enc_table.add_row(['txt 10MB',des_enc,bf_enc])\n",
        "dec_table.add_row(['txt 10MB',des_dec,bf_dec])\n",
        "enc_data[0].append(des_enc)\n",
        "enc_data[1].append(bf_enc)\n",
        "dec_data[0].append(des_dec)\n",
        "dec_data[1].append(bf_dec)\n",
        "\n",
        "des_enc,des_dec=finddesavgtime(desbs,deskey,'txt20MB.txt')\n",
        "bf_enc,bf_dec=findbfavgtime(bs,bskey,'txt20MB.txt')\n",
        "enc_table.add_row(['txt 20MB',des_enc,bf_enc])\n",
        "dec_table.add_row(['txt 20MB',des_dec,bf_dec])\n",
        "enc_data[0].append(des_enc)\n",
        "enc_data[1].append(bf_enc)\n",
        "dec_data[0].append(des_dec)\n",
        "dec_data[1].append(bf_dec)\n",
        "\n",
        "des_enc,des_dec=finddesavgtime(desbs,deskey,'txt30MB.txt')\n",
        "bf_enc,bf_dec=findbfavgtime(bs,bskey,'txt30MB.txt')\n",
        "enc_table.add_row(['txt 30MB',des_enc,bf_enc])\n",
        "dec_table.add_row(['txt 30MB',des_dec,bf_dec])\n",
        "enc_data[0].append(des_enc)\n",
        "enc_data[1].append(bf_enc)\n",
        "dec_data[0].append(des_dec)\n",
        "dec_data[1].append(bf_dec)"
      ],
      "execution_count": 0,
      "outputs": []
    },
    {
      "cell_type": "code",
      "metadata": {
        "id": "jp6UJHvaY4c-",
        "colab_type": "code",
        "outputId": "3e5788ad-69ee-4c66-d60b-2e65df72e05b",
        "colab": {
          "base_uri": "https://localhost:8080/",
          "height": 523
        }
      },
      "source": [
        "print(\"Encryption times (in ms):\\n\",enc_table)\n",
        "print(\"\\nDecryption times (in ms):\\n\",dec_table)"
      ],
      "execution_count": 0,
      "outputs": [
        {
          "output_type": "stream",
          "text": [
            "Encryption times (in ms):\n",
            " +----------+--------------------+--------------------+\n",
            "|   File   |        DES         |      Blowfish      |\n",
            "+----------+--------------------+--------------------+\n",
            "| mp4 10MB | 155.65953254699707 | 100.99413394927979 |\n",
            "| mp4 20MB | 312.4420166015625  | 202.4730682373047  |\n",
            "| mp4 30MB | 465.14506340026855 | 303.92348766326904 |\n",
            "| xml 10MB | 154.60138320922852 | 102.79605388641357 |\n",
            "| xml 20MB | 312.53888607025146 | 202.97448635101318 |\n",
            "| xml 30MB | 466.5310859680176  | 302.05674171447754 |\n",
            "| txt 10MB | 155.3389072418213  | 102.80520915985107 |\n",
            "| txt 20MB | 311.73508167266846 | 201.88682079315186 |\n",
            "| txt 30MB | 462.7258062362671  | 301.7495632171631  |\n",
            "+----------+--------------------+--------------------+\n",
            "\n",
            "Decryption times (in ms):\n",
            " +----------+--------------------+--------------------+\n",
            "|   File   |        DES         |      Blowfish      |\n",
            "+----------+--------------------+--------------------+\n",
            "| mp4 10MB | 152.7669906616211  | 97.84684181213379  |\n",
            "| mp4 20MB | 307.1084976196289  | 196.7404842376709  |\n",
            "| mp4 30MB | 463.34619522094727 | 293.2140827178955  |\n",
            "| xml 10MB | 153.46038341522217 | 99.42736625671387  |\n",
            "| xml 20MB | 306.7976713180542  | 197.74258136749268 |\n",
            "| xml 30MB | 462.0220184326172  | 293.08221340179443 |\n",
            "| txt 10MB | 154.64894771575928 | 99.01676177978516  |\n",
            "| txt 20MB | 306.93373680114746 | 198.50053787231445 |\n",
            "| txt 30MB | 463.61305713653564 | 296.1358070373535  |\n",
            "+----------+--------------------+--------------------+\n"
          ],
          "name": "stdout"
        }
      ]
    },
    {
      "cell_type": "markdown",
      "metadata": {
        "id": "vn94r55RyQd9",
        "colab_type": "text"
      },
      "source": [
        "#Section 4 : Visualisation\n",
        "using matplotlib"
      ]
    },
    {
      "cell_type": "code",
      "metadata": {
        "id": "zxTZhVfcyHE-",
        "colab_type": "code",
        "outputId": "a2983593-583b-43ff-fcc9-e9e23ee2c872",
        "colab": {
          "base_uri": "https://localhost:8080/",
          "height": 54
        }
      },
      "source": [
        "print(enc_data)"
      ],
      "execution_count": 0,
      "outputs": [
        {
          "output_type": "stream",
          "text": [
            "[[155.65953254699707, 312.4420166015625, 465.14506340026855, 154.60138320922852, 312.53888607025146, 466.5310859680176, 155.3389072418213, 311.73508167266846, 462.7258062362671], [100.99413394927979, 202.4730682373047, 303.92348766326904, 102.79605388641357, 202.97448635101318, 302.05674171447754, 102.80520915985107, 201.88682079315186, 301.7495632171631]]\n"
          ],
          "name": "stdout"
        }
      ]
    },
    {
      "cell_type": "code",
      "metadata": {
        "id": "IxBOyb_4yHB3",
        "colab_type": "code",
        "colab": {}
      },
      "source": [
        "import numpy as np\n",
        "import matplotlib.pyplot as plt"
      ],
      "execution_count": 0,
      "outputs": []
    },
    {
      "cell_type": "code",
      "metadata": {
        "id": "WdNMSJXHyrCV",
        "colab_type": "code",
        "outputId": "34a46f5e-4071-48cf-fcf0-6313c7bad71d",
        "colab": {
          "base_uri": "https://localhost:8080/",
          "height": 297
        }
      },
      "source": [
        "#create encryption bar graph\n",
        "index=np.arange(9)\n",
        "fig = plt.figure()\n",
        "bar_width = 0.35\n",
        "opacity = 0.8\n",
        "rects1 = plt.barh(index, enc_data[0], bar_width,\n",
        "alpha=opacity,\n",
        "color='b',label=\"DES\")\n",
        "\n",
        "rects1 = plt.barh(index+bar_width, enc_data[1], bar_width,\n",
        "alpha=opacity,\n",
        "color='r',label=\"Blowfish\")\n",
        "\n",
        "plt.ylabel('File Type (with size)')\n",
        "plt.xlabel('Encryption Time (in milliseconds)')\n",
        "plt.title('Encryption Time based on File Type and Size')\n",
        "plt.yticks(index + bar_width, ('MP4 10MB', 'MP4 20MB', 'MP4 30MB', 'XML 10MB','XML 20MB','XML 30MB','TXT 10MB','TXT 20MB','TXT 30MB'))\n",
        "plt.legend()\n",
        "\n",
        "plt.tight_layout()\n",
        "plt.show()"
      ],
      "execution_count": 0,
      "outputs": [
        {
          "output_type": "display_data",
          "data": {
            "image/png": "[encoded data removed]",
            "text/plain": [
              "<Figure size 432x288 with 1 Axes>"
            ]
          },
          "metadata": {
            "tags": [],
            "needs_background": "light"
          }
        }
      ]
    },
    {
      "cell_type": "code",
      "metadata": {
        "id": "ORgdie_Rs8r-",
        "colab_type": "code",
        "outputId": "2d5a3163-fb05-4265-c480-1bc323072813",
        "colab": {
          "base_uri": "https://localhost:8080/",
          "height": 297
        }
      },
      "source": [
        "#create decryption bar graph\n",
        "index=np.arange(9)\n",
        "fig = plt.figure()\n",
        "bar_width = 0.35\n",
        "opacity = 0.8\n",
        "rects1 = plt.barh(index, dec_data[0], bar_width,\n",
        "alpha=opacity,\n",
        "color='g',label=\"DES\")\n",
        "\n",
        "rects1 = plt.barh(index+bar_width, dec_data[1], bar_width,\n",
        "alpha=opacity,\n",
        "color='black',label=\"Blowfish\")\n",
        "\n",
        "plt.ylabel('File Type (with size)')\n",
        "plt.xlabel('Decryption Time (in milliseconds)')\n",
        "plt.title('Decryption Time based on File Type and Size')\n",
        "plt.yticks(index + bar_width, ('MP4 10MB', 'MP4 20MB', 'MP4 30MB', 'XML 10MB','XML 20MB','XML 30MB','TXT 10MB','TXT 20MB','TXT 30MB'))\n",
        "plt.legend()\n",
        "\n",
        "plt.tight_layout()\n",
        "plt.show()"
      ],
      "execution_count": 0,
      "outputs": [
        {
          "output_type": "display_data",
          "data": {
            "image/png": "[encoded data removed]",
            "text/plain": [
              "<Figure size 432x288 with 1 Axes>"
            ]
          },
          "metadata": {
            "tags": [],
            "needs_background": "light"
          }
        }
      ]
    }
  ]
}