{
  "nbformat": 4,
  "nbformat_minor": 0,
  "metadata": {
    "colab": {
      "name": "desvsblowfish(cfb).ipynb",
      "provenance": [],
      "collapsed_sections": [],
      "toc_visible": true,
      "include_colab_link": true
    },
    "kernelspec": {
      "name": "python3",
      "display_name": "Python 3"
    }
  },
  "cells": [
    {
      "cell_type": "markdown",
      "metadata": {
        "id": "view-in-github",
        "colab_type": "text"
      },
      "source": [
        "<a href=\"https://colab.research.google.com/github/mattyco/Critical-Analysis-of-DES-and-Blowfish/blob/master/desvsblowfish(cfb).ipynb\" target=\"_parent\"><img src=\"https://colab.research.google.com/assets/colab-badge.svg\" alt=\"Open In Colab\"/></a>"
      ]
    },
    {
      "cell_type": "markdown",
      "metadata": {
        "id": "amOp5Byxesb4",
        "colab_type": "text"
      },
      "source": [
        "#Section 1\n",
        "Blowfish Python"
      ]
    },
    {
      "cell_type": "code",
      "metadata": {
        "id": "OPMsVEYcKo9A",
        "colab_type": "code",
        "outputId": "b28f40a3-81ca-490d-c18e-c576e99d38e2",
        "colab": {
          "base_uri": "https://localhost:8080/",
          "height": 124
        }
      },
      "source": [
        "pip install pycryptodome"
      ],
      "execution_count": 0,
      "outputs": [
        {
          "output_type": "stream",
          "text": [
            "Collecting pycryptodome\n",
            "\u001b[?25l  Downloading https://files.pythonhosted.org/packages/af/16/da16a22d47bac9bf9db39f3b9af74e8eeed8855c0df96be20b580ef92fff/pycryptodome-3.9.7-cp36-cp36m-manylinux1_x86_64.whl (13.7MB)\n",
            "\u001b[K     |████████████████████████████████| 13.7MB 309kB/s \n",
            "\u001b[?25hInstalling collected packages: pycryptodome\n",
            "Successfully installed pycryptodome-3.9.7\n"
          ],
          "name": "stdout"
        }
      ]
    },
    {
      "cell_type": "code",
      "metadata": {
        "id": "XM3u2DflLG-D",
        "colab_type": "code",
        "colab": {}
      },
      "source": [
        "from Crypto.Cipher import Blowfish\n",
        "from struct import pack\n",
        "import os, random\n",
        "import binascii\n",
        "import time"
      ],
      "execution_count": 0,
      "outputs": []
    },
    {
      "cell_type": "code",
      "metadata": {
        "id": "zGip9zv3NWc2",
        "colab_type": "code",
        "outputId": "9d5fb198-6321-40e3-e7ef-62b76dcd98d4",
        "colab": {
          "base_uri": "https://localhost:8080/",
          "height": 124
        }
      },
      "source": [
        "from google.colab import drive\n",
        "drive.mount('/content/drive')"
      ],
      "execution_count": 0,
      "outputs": [
        {
          "output_type": "stream",
          "text": [
            "Go to this URL in a browser: https://accounts.google.com/o/oauth2/auth?client_id=947318989803-6bn6qk8qdgf4n4g3pfee6491hc0brc4i.apps.googleusercontent.com&redirect_uri=urn%3aietf%3awg%3aoauth%3a2.0%3aoob&response_type=code&scope=email%20https%3a%2f%2fwww.googleapis.com%2fauth%2fdocs.test%20https%3a%2f%2fwww.googleapis.com%2fauth%2fdrive%20https%3a%2f%2fwww.googleapis.com%2fauth%2fdrive.photos.readonly%20https%3a%2f%2fwww.googleapis.com%2fauth%2fpeopleapi.readonly\n",
            "\n",
            "Enter your authorization code:\n",
            "··········\n",
            "Mounted at /content/drive\n"
          ],
          "name": "stdout"
        }
      ]
    },
    {
      "cell_type": "code",
      "metadata": {
        "id": "sjd2x-SWNjra",
        "colab_type": "code",
        "colab": {}
      },
      "source": [
        "path ='/content/drive/My Drive/CompSec/'"
      ],
      "execution_count": 0,
      "outputs": []
    },
    {
      "cell_type": "code",
      "metadata": {
        "id": "R-JsuO324r8W",
        "colab_type": "code",
        "colab": {}
      },
      "source": [
        "bs = Blowfish.block_size\n",
        "bskey = b'01234567'\n",
        "bfobj = Blowfish.new(bskey, Blowfish.MODE_CFB)"
      ],
      "execution_count": 0,
      "outputs": []
    },
    {
      "cell_type": "code",
      "metadata": {
        "id": "eaBmUUVpP2ed",
        "colab_type": "code",
        "colab": {}
      },
      "source": [
        "def encrypt_bf_file(bs, key, in_filename, out_filename=None):\n",
        "    if not out_filename:\n",
        "        out_filename = in_filename + '.enc'\n",
        "    size = os.path.getsize(in_filename)\n",
        "    infile = open(in_filename, 'rb')\n",
        "    outfile = open(out_filename, 'wb')\n",
        "    data = infile.read()\n",
        "    infile.close()\n",
        "    if size % bs > 0:  # Add padding if size if not divisible by 8\n",
        "        extra = bs-(size % bs)\n",
        "        padding = [0]*extra\n",
        "        padding = pack('b'*extra, *padding)\n",
        "        data += padding\n",
        "    start_time=time.time()\n",
        "    encrypted_data = bfobj.iv + bfobj.encrypt(data)\n",
        "    end_time=time.time()\n",
        "    outfile.write(encrypted_data)\n",
        "    outfile.close()\n",
        "    return (end_time - start_time)"
      ],
      "execution_count": 0,
      "outputs": []
    },
    {
      "cell_type": "code",
      "metadata": {
        "id": "fJspz819PZyV",
        "colab_type": "code",
        "colab": {}
      },
      "source": [
        "def decrypt_bf_file(key, in_filename, out_filename):\n",
        "    infile = open(in_filename, 'rb')\n",
        "    outfile = open(out_filename, 'wb')\n",
        "    data = infile.read()\n",
        "    infile.close()\n",
        "    iv = data[:bs]\n",
        "    data = data[bs:]\n",
        "    start_time=time.time()\n",
        "    bfobjnew = Blowfish.new(key, Blowfish.MODE_CFB, iv)\n",
        "    decrypted_data = bfobjnew.decrypt(data)\n",
        "    end_time=time.time()\n",
        "    end = len(decrypted_data) - 1\n",
        "    while binascii.hexlify(bytes(str(decrypted_data[end]), 'utf-8')) == '00':\n",
        "        end -= 1\n",
        "    decrypted_data = decrypted_data[0:end]\n",
        "    outfile.write(decrypted_data)\n",
        "    outfile.close()\n",
        "    return(end_time - start_time)"
      ],
      "execution_count": 0,
      "outputs": []
    },
    {
      "cell_type": "code",
      "metadata": {
        "id": "fwAL-f0KayGq",
        "colab_type": "code",
        "colab": {}
      },
      "source": [
        "def findbfavgtime(bs,key,filename):\n",
        "  avg_enc_time=0\n",
        "  avg_dec_time=0\n",
        "  for i in range(10):\n",
        "    time_taken_enc=encrypt_bf_file(bs,key, path + filename)\n",
        "    time_taken_dec=decrypt_bf_file(key, path + filename + \".enc\",path + 'out.txt')\n",
        "    # print(time_taken)\n",
        "    avg_enc_time+=time_taken_enc\n",
        "    avg_dec_time+=time_taken_dec\n",
        "    # time.sleep(2)\n",
        "\n",
        "  avg_enc_time*=100\n",
        "  avg_dec_time*=100\n",
        "  return(avg_enc_time,avg_dec_time)"
      ],
      "execution_count": 0,
      "outputs": []
    },
    {
      "cell_type": "markdown",
      "metadata": {
        "id": "HSXskxhEfCBF",
        "colab_type": "text"
      },
      "source": [
        "#Section 2\n",
        "DES Python\n",
        "Key size 64 bit.\n",
        "ECB Mode (Electronic Code Book)"
      ]
    },
    {
      "cell_type": "code",
      "metadata": {
        "id": "CxRE82K5fPKM",
        "colab_type": "code",
        "colab": {}
      },
      "source": [
        "from Crypto.Cipher import DES\n",
        "import time"
      ],
      "execution_count": 0,
      "outputs": []
    },
    {
      "cell_type": "code",
      "metadata": {
        "id": "RNm-xPtEfdRs",
        "colab_type": "code",
        "colab": {}
      },
      "source": [
        "desbs = DES.block_size\n",
        "deskey=b'01234567'\n",
        "desobj = DES.new(deskey, DES.MODE_CFB)"
      ],
      "execution_count": 0,
      "outputs": []
    },
    {
      "cell_type": "code",
      "metadata": {
        "id": "M6C_fErBgaih",
        "colab_type": "code",
        "colab": {}
      },
      "source": [
        "def encrypt_des_file(bs,key, in_filename, out_filename=None):\n",
        "    if not out_filename:\n",
        "        out_filename = in_filename + '.enc'\n",
        "    size = os.path.getsize(in_filename)\n",
        "    infile = open(in_filename, 'rb')\n",
        "    outfile = open(out_filename, 'wb')\n",
        "    data = infile.read()\n",
        "    infile.close()\n",
        "    if size % bs > 0:  # Add padding if size if not divisible by 8\n",
        "        extra = bs-(size % bs)\n",
        "        padding = [0]*extra\n",
        "        padding = pack('b'*extra, *padding)\n",
        "        data += padding\n",
        "    start_time=time.time()\n",
        "    encrypted_data = desobj.iv + desobj.encrypt(data)\n",
        "    end_time=time.time()\n",
        "    outfile.write(encrypted_data)\n",
        "    outfile.close()\n",
        "    return (end_time - start_time)"
      ],
      "execution_count": 0,
      "outputs": []
    },
    {
      "cell_type": "code",
      "metadata": {
        "id": "cm4v14BRgbff",
        "colab_type": "code",
        "colab": {}
      },
      "source": [
        "def decrypt_des_file(key, in_filename, out_filename):\n",
        "    infile = open(in_filename, 'rb')\n",
        "    outfile = open(out_filename, 'wb')\n",
        "    data = infile.read()\n",
        "    infile.close()\n",
        "    iv = data[:desbs]\n",
        "    data = data[desbs:]\n",
        "    start_time=time.time()\n",
        "    desobjnew = DES.new(key, DES.MODE_CFB, iv)\n",
        "    decrypted_data = desobjnew.decrypt(data)\n",
        "    end_time=time.time()\n",
        "    end = len(decrypted_data) - 1\n",
        "    while binascii.hexlify(bytes(str(decrypted_data[end]), 'utf-8')) == '00':\n",
        "        end -= 1\n",
        "    decrypted_data = decrypted_data[0:end]\n",
        "    outfile.write(decrypted_data)\n",
        "    outfile.close()\n",
        "    return(end_time - start_time)\n"
      ],
      "execution_count": 0,
      "outputs": []
    },
    {
      "cell_type": "code",
      "metadata": {
        "id": "Z2P3rxp-Jh16",
        "colab_type": "code",
        "colab": {}
      },
      "source": [
        "def finddesavgtime(bs,key,filename):\n",
        "  avg_enc_time=0\n",
        "  avg_dec_time=0\n",
        "  for i in range(10):\n",
        "    time_taken_enc=encrypt_des_file(bs,key, path + filename)\n",
        "    time_taken_dec=decrypt_des_file(key, path + filename + \".enc\",path + 'out.txt')\n",
        "    # print(time_taken)\n",
        "    avg_enc_time+=time_taken_enc\n",
        "    avg_dec_time+=time_taken_dec\n",
        "    # time.sleep(1)\n",
        "\n",
        "  avg_enc_time*=100\n",
        "  avg_dec_time*=100\n",
        "  return(avg_enc_time,avg_dec_time)"
      ],
      "execution_count": 0,
      "outputs": []
    },
    {
      "cell_type": "markdown",
      "metadata": {
        "id": "9aV_OAKQXL-h",
        "colab_type": "text"
      },
      "source": [
        "#Section 3\n",
        "Comparing the values"
      ]
    },
    {
      "cell_type": "code",
      "metadata": {
        "id": "xcOVDS1CXWQK",
        "colab_type": "code",
        "colab": {}
      },
      "source": [
        "from prettytable import PrettyTable"
      ],
      "execution_count": 0,
      "outputs": []
    },
    {
      "cell_type": "code",
      "metadata": {
        "id": "6bvTW_lYXjru",
        "colab_type": "code",
        "colab": {}
      },
      "source": [
        "enc_table=PrettyTable(['File','DES','Blowfish'])\n",
        "dec_table=PrettyTable(['File','DES','Blowfish'])\n"
      ],
      "execution_count": 0,
      "outputs": []
    },
    {
      "cell_type": "code",
      "metadata": {
        "colab_type": "code",
        "id": "1jJX7YAfkM0M",
        "colab": {}
      },
      "source": [
        "enc_data=[[],[]]\n",
        "dec_data=[[],[]]\n",
        "\n",
        "des_enc,des_dec=finddesavgtime(desbs,deskey,'vid10MB.mp4')\n",
        "bf_enc,bf_dec=findbfavgtime(bs,bskey,'vid10MB.mp4')\n",
        "enc_table.add_row(['mp4 10MB',des_enc,bf_enc])\n",
        "dec_table.add_row(['mp4 10MB',des_dec,bf_dec])\n",
        "enc_data[0].append(des_enc)\n",
        "enc_data[1].append(bf_enc)\n",
        "dec_data[0].append(des_dec)\n",
        "dec_data[1].append(bf_dec)\n",
        "\n",
        "des_enc,des_dec=finddesavgtime(desbs,deskey,'vid20MB.mp4')\n",
        "bf_enc,bf_dec=findbfavgtime(bs,bskey,'vid20MB.mp4')\n",
        "enc_table.add_row(['mp4 20MB',des_enc,bf_enc])\n",
        "dec_table.add_row(['mp4 20MB',des_dec,bf_dec])\n",
        "enc_data[0].append(des_enc)\n",
        "enc_data[1].append(bf_enc)\n",
        "dec_data[0].append(des_dec)\n",
        "dec_data[1].append(bf_dec)\n",
        "\n",
        "des_enc,des_dec=finddesavgtime(desbs,deskey,'vid30MB.mp4')\n",
        "bf_enc,bf_dec=findbfavgtime(bs,bskey,'vid30MB.mp4')\n",
        "enc_table.add_row(['mp4 30MB',des_enc,bf_enc])\n",
        "dec_table.add_row(['mp4 30MB',des_dec,bf_dec])\n",
        "enc_data[0].append(des_enc)\n",
        "enc_data[1].append(bf_enc)\n",
        "dec_data[0].append(des_dec)\n",
        "dec_data[1].append(bf_dec)\n",
        "\n",
        "des_enc,des_dec=finddesavgtime(desbs,deskey,'xml10MB.xml')\n",
        "bf_enc,bf_dec=findbfavgtime(bs,bskey,'xml10MB.xml')\n",
        "enc_table.add_row(['xml 10MB',des_enc,bf_enc])\n",
        "dec_table.add_row(['xml 10MB',des_dec,bf_dec])\n",
        "enc_data[0].append(des_enc)\n",
        "enc_data[1].append(bf_enc)\n",
        "dec_data[0].append(des_dec)\n",
        "dec_data[1].append(bf_dec)\n",
        "\n",
        "des_enc,des_dec=finddesavgtime(desbs,deskey,'xml20MB.xml')\n",
        "bf_enc,bf_dec=findbfavgtime(bs,bskey,'xml20MB.xml')\n",
        "enc_table.add_row(['xml 20MB',des_enc,bf_enc])\n",
        "dec_table.add_row(['xml 20MB',des_dec,bf_dec])\n",
        "enc_data[0].append(des_enc)\n",
        "enc_data[1].append(bf_enc)\n",
        "dec_data[0].append(des_dec)\n",
        "dec_data[1].append(bf_dec)\n",
        "\n",
        "des_enc,des_dec=finddesavgtime(desbs,deskey,'xml30MB.xml')\n",
        "bf_enc,bf_dec=findbfavgtime(bs,bskey,'xml30MB.xml')\n",
        "enc_table.add_row(['xml 30MB',des_enc,bf_enc])\n",
        "dec_table.add_row(['xml 30MB',des_dec,bf_dec])\n",
        "enc_data[0].append(des_enc)\n",
        "enc_data[1].append(bf_enc)\n",
        "dec_data[0].append(des_dec)\n",
        "dec_data[1].append(bf_dec)\n",
        "\n",
        "des_enc,des_dec=finddesavgtime(desbs,deskey,'txt10MB.txt')\n",
        "bf_enc,bf_dec=findbfavgtime(bs,bskey,'txt10MB.txt')\n",
        "enc_table.add_row(['txt 10MB',des_enc,bf_enc])\n",
        "dec_table.add_row(['txt 10MB',des_dec,bf_dec])\n",
        "enc_data[0].append(des_enc)\n",
        "enc_data[1].append(bf_enc)\n",
        "dec_data[0].append(des_dec)\n",
        "dec_data[1].append(bf_dec)\n",
        "\n",
        "des_enc,des_dec=finddesavgtime(desbs,deskey,'txt20MB.txt')\n",
        "bf_enc,bf_dec=findbfavgtime(bs,bskey,'txt20MB.txt')\n",
        "enc_table.add_row(['txt 20MB',des_enc,bf_enc])\n",
        "dec_table.add_row(['txt 20MB',des_dec,bf_dec])\n",
        "enc_data[0].append(des_enc)\n",
        "enc_data[1].append(bf_enc)\n",
        "dec_data[0].append(des_dec)\n",
        "dec_data[1].append(bf_dec)\n",
        "\n",
        "des_enc,des_dec=finddesavgtime(desbs,deskey,'txt30MB.txt')\n",
        "bf_enc,bf_dec=findbfavgtime(bs,bskey,'txt30MB.txt')\n",
        "enc_table.add_row(['txt 30MB',des_enc,bf_enc])\n",
        "dec_table.add_row(['txt 30MB',des_dec,bf_dec])\n",
        "enc_data[0].append(des_enc)\n",
        "enc_data[1].append(bf_enc)\n",
        "dec_data[0].append(des_dec)\n",
        "dec_data[1].append(bf_dec)"
      ],
      "execution_count": 0,
      "outputs": []
    },
    {
      "cell_type": "code",
      "metadata": {
        "id": "jp6UJHvaY4c-",
        "colab_type": "code",
        "outputId": "c0d504ca-23d0-4859-a605-f7b04d4392af",
        "colab": {
          "base_uri": "https://localhost:8080/",
          "height": 520
        }
      },
      "source": [
        "print(\"Encryption times (in ms):\\n\",enc_table)\n",
        "print(\"\\nDecryption times (in ms):\\n\",dec_table)"
      ],
      "execution_count": 0,
      "outputs": [
        {
          "output_type": "stream",
          "text": [
            "Encryption times (in ms):\n",
            " +----------+--------------------+--------------------+\n",
            "|   File   |        DES         |      Blowfish      |\n",
            "+----------+--------------------+--------------------+\n",
            "| mp4 10MB | 1315.0088787078857 | 900.7773637771606  |\n",
            "| mp4 20MB | 2625.6743907928467 | 1802.8513431549072 |\n",
            "| mp4 30MB | 3932.0351600646973 | 2774.0725994110107 |\n",
            "| xml 10MB | 1309.1857194900513 | 903.2992839813232  |\n",
            "| xml 20MB | 2620.5193519592285 | 1798.5727548599243 |\n",
            "| xml 30MB | 3929.4090509414673 | 2701.310396194458  |\n",
            "| txt 10MB | 1313.8607501983643 | 900.6488084793091  |\n",
            "| txt 20MB | 2621.663522720337  | 1802.1814823150635 |\n",
            "| txt 30MB | 3925.2537965774536 | 2699.0203619003296 |\n",
            "+----------+--------------------+--------------------+\n",
            "\n",
            "Decryption times (in ms):\n",
            " +----------+--------------------+--------------------+\n",
            "|   File   |        DES         |      Blowfish      |\n",
            "+----------+--------------------+--------------------+\n",
            "| mp4 10MB | 1312.715220451355  |  907.391619682312  |\n",
            "| mp4 20MB | 2618.3655738830566 | 1802.4669408798218 |\n",
            "| mp4 30MB | 3931.928777694702  | 2748.448586463928  |\n",
            "| xml 10MB | 1312.5750064849854 |  896.568775177002  |\n",
            "| xml 20MB | 2617.9049253463745 | 1793.4605121612549 |\n",
            "| xml 30MB | 3928.488874435425  | 2690.5388355255127 |\n",
            "| txt 10MB | 1309.0013027191162 | 895.4428195953369  |\n",
            "| txt 20MB | 2621.652412414551  | 1807.526159286499  |\n",
            "| txt 30MB | 3925.6356239318848 | 2688.8675689697266 |\n",
            "+----------+--------------------+--------------------+\n"
          ],
          "name": "stdout"
        }
      ]
    },
    {
      "cell_type": "markdown",
      "metadata": {
        "id": "vn94r55RyQd9",
        "colab_type": "text"
      },
      "source": [
        "#Section 4 : Visualisation\n",
        "using matplotlib"
      ]
    },
    {
      "cell_type": "code",
      "metadata": {
        "id": "zxTZhVfcyHE-",
        "colab_type": "code",
        "outputId": "2f4ffbcd-15a1-4470-973b-cad9e89da3f6",
        "colab": {
          "base_uri": "https://localhost:8080/",
          "height": 55
        }
      },
      "source": [
        "print(enc_data)"
      ],
      "execution_count": 0,
      "outputs": [
        {
          "output_type": "stream",
          "text": [
            "[[1315.0088787078857, 2625.6743907928467, 3932.0351600646973, 1309.1857194900513, 2620.5193519592285, 3929.4090509414673, 1313.8607501983643, 2621.663522720337, 3925.2537965774536], [900.7773637771606, 1802.8513431549072, 2774.0725994110107, 903.2992839813232, 1798.5727548599243, 2701.310396194458, 900.6488084793091, 1802.1814823150635, 2699.0203619003296]]\n"
          ],
          "name": "stdout"
        }
      ]
    },
    {
      "cell_type": "code",
      "metadata": {
        "id": "IxBOyb_4yHB3",
        "colab_type": "code",
        "colab": {}
      },
      "source": [
        "import numpy as np\n",
        "import matplotlib.pyplot as plt"
      ],
      "execution_count": 0,
      "outputs": []
    },
    {
      "cell_type": "code",
      "metadata": {
        "id": "WdNMSJXHyrCV",
        "colab_type": "code",
        "outputId": "ace39311-7f83-4433-c47a-bdbef2de8feb",
        "colab": {
          "base_uri": "https://localhost:8080/",
          "height": 55
        }
      },
      "source": [
        "#create encryption bar graph\n",
        "index=np.arange(9)\n",
        "fig = plt.figure()\n",
        "bar_width = 0.35\n",
        "opacity = 0.8\n",
        "rects1 = plt.barh(index, enc_data[0], bar_width,\n",
        "alpha=opacity,\n",
        "color='b',label=\"DES\")\n",
        "\n",
        "rects1 = plt.barh(index+bar_width, enc_data[1], bar_width,\n",
        "alpha=opacity,\n",
        "color='r',label=\"Blowfish\")\n",
        "\n",
        "plt.ylabel('File Type (with size)')\n",
        "plt.xlabel('Encryption Time (in milliseconds)')\n",
        "plt.title('Encryption Time based on File Type and Size')\n",
        "plt.yticks(index + bar_width, ('MP4 10MB', 'MP4 20MB', 'MP4 30MB', 'XML 10MB','XML 20MB','XML 30MB','TXT 10MB','TXT 20MB','TXT 30MB'))\n",
        "plt.legend()\n",
        "\n",
        "plt.tight_layout()\n",
        "plt.show()"
      ],
      "execution_count": 0,
      "outputs": [
        {
          "output_type": "display_data",
          "data": {
            "image/png": "[encoded data removed]",
            "text/plain": [
              "<Figure size 432x288 with 1 Axes>"
            ]
          },
          "metadata": {
            "tags": [],
            "needs_background": "light"
          }
        }
      ]
    },
    {
      "cell_type": "code",
      "metadata": {
        "id": "ORgdie_Rs8r-",
        "colab_type": "code",
        "outputId": "cb63d70e-f103-48ce-948c-bc83f27b5c4f",
        "colab": {
          "base_uri": "https://localhost:8080/",
          "height": 297
        }
      },
      "source": [
        "#create decryption bar graph\n",
        "index=np.arange(9)\n",
        "fig = plt.figure()\n",
        "bar_width = 0.35\n",
        "opacity = 0.8\n",
        "rects1 = plt.barh(index, dec_data[0], bar_width,\n",
        "alpha=opacity,\n",
        "color='g',label=\"DES\")\n",
        "\n",
        "rects1 = plt.barh(index+bar_width, dec_data[1], bar_width,\n",
        "alpha=opacity,\n",
        "color='black',label=\"Blowfish\")\n",
        "\n",
        "plt.ylabel('File Type (with size)')\n",
        "plt.xlabel('Decryption Time (in milliseconds)')\n",
        "plt.title('Decryption Time based on File Type and Size')\n",
        "plt.yticks(index + bar_width, ('MP4 10MB', 'MP4 20MB', 'MP4 30MB', 'XML 10MB','XML 20MB','XML 30MB','TXT 10MB','TXT 20MB','TXT 30MB'))\n",
        "plt.legend()\n",
        "\n",
        "plt.tight_layout()\n",
        "plt.show()"
      ],
      "execution_count": 0,
      "outputs": [
        {
          "output_type": "display_data",
          "data": {
            "image/png": "[encoded data removed]",
            "text/plain": [
              "<Figure size 432x288 with 1 Axes>"
            ]
          },
          "metadata": {
            "tags": [],
            "needs_background": "light"
          }
        }
      ]
    }
  ]
}